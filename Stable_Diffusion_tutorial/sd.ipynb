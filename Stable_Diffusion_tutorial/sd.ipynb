{
  "nbformat": 4,
  "nbformat_minor": 0,
  "metadata": {
    "colab": {
      "provenance": [],
      "authorship_tag": "ABX9TyNoEqJOX6s1VC8I/enBH4Hl",
      "include_colab_link": true
    },
    "kernelspec": {
      "name": "python3",
      "display_name": "Python 3"
    },
    "language_info": {
      "name": "python"
    }
  },
  "cells": [
    {
      "cell_type": "markdown",
      "metadata": {
        "id": "view-in-github",
        "colab_type": "text"
      },
      "source": [
        "<a href=\"https://colab.research.google.com/github/petron23/Generative_AI/blob/main/Stable_Diffusion_tutorial/sd.ipynb\" target=\"_parent\"><img src=\"https://colab.research.google.com/assets/colab-badge.svg\" alt=\"Open In Colab\"/></a>"
      ]
    },
    {
      "cell_type": "code",
      "source": [
        "import torch\n",
        "import torch.nn as nn\n",
        "import numpy as np\n",
        "from torchvision.utils import save_image, make_grid\n",
        "import matplotlib.pyplot as plt\n",
        "from matplotlib.animation import FuncAnimation, PillowWriter\n",
        "import os\n",
        "import torchvision.transforms as transforms\n",
        "from torch.utils.data import Dataset\n",
        "from PIL import Image\n",
        "\n",
        "\n",
        "class ResidualConvBlock(nn.Module):\n",
        "    def __init__(self, in_channels, out_channels, is_res=False):\n",
        "        super(ResidualConvBlock, self).__init__()\n",
        "\n",
        "        self.same_channels = in_channels == out_channels\n",
        "        self.is_res = is_res\n",
        "\n",
        "        self.conv1 = self._conv_block(in_channels, out_channels)\n",
        "        self.conv2 = self._conv_block(out_channels, out_channels)\n",
        "\n",
        "    def _conv_block(self, in_channels, out_channels):\n",
        "        return nn.Sequential(\n",
        "            nn.Conv2d(in_channels, out_channels, kernel_size=3, stride=1, padding=1),\n",
        "            nn.BatchNorm2d(out_channels),\n",
        "            nn.GELU()\n",
        "        )\n",
        "\n",
        "    def forward(self, x):\n",
        "        x1 = self.conv1(x)\n",
        "        x2 = self.conv2(x1)\n",
        "\n",
        "        if self.is_res:\n",
        "            if self.same_channels:\n",
        "                out = x + x2\n",
        "            else:\n",
        "                shortcut = nn.Conv2d(x.shape[1], x2.shape[1], kernel_size=1, stride=1, padding=0).to(x.device)\n",
        "                out = shortcut(x) + x2\n",
        "\n",
        "            return out / 1.414\n",
        "        else:\n",
        "            return x2\n",
        "\n",
        "    def get_out_channels(self):\n",
        "        return self.conv2[0].out_channels\n",
        "\n",
        "    def set_out_channels(self, out_channels):\n",
        "        self.conv1[0].out_channels = out_channels\n",
        "        self.conv2[0].in_channels = out_channels\n",
        "        self.conv2[0].out_channels = out_channels\n",
        "\n",
        "class UnetUp(nn.Module):\n",
        "    def __init__(self, in_channels, out_channels):\n",
        "        super(UnetUp, self).__init()\n",
        "\n",
        "        # Create the upsampling block with ConvTranspose2d and ResidualConvBlock layers\n",
        "        self.upsample = nn.ConvTranspose2d(in_channels, out_channels, kernel_size=2, stride=2)\n",
        "        self.residual1 = ResidualConvBlock(out_channels, out_channels)\n",
        "        self.residual2 = ResidualConvBlock(out_channels, out_channels)\n",
        "\n",
        "    def forward(self, x, skip):\n",
        "        # Concatenate the input tensor (x) with the skip connection tensor along the channel dimension\n",
        "        x = torch.cat((x, skip), 1)\n",
        "\n",
        "        # Apply upsampling, followed by two residual convolutional blocks\n",
        "        x = self.upsample(x)\n",
        "        x = self.residual1(x)\n",
        "        x = self.residual2(x)\n",
        "\n",
        "        return x\n",
        "\n",
        "class UnetDown(nn.Module):\n",
        "    def __init__(self, in_channels, out_channels):\n",
        "        super(UnetDown, self).__init()\n",
        "\n",
        "        # Create the downsampling block with ResidualConvBlock and MaxPool2d layers\n",
        "        self.residual1 = ResidualConvBlock(in_channels, out_channels)\n",
        "        self.residual2 = ResidualConvBlock(out_channels, out_channels)\n",
        "        self.downsample = nn.MaxPool2d(2)\n",
        "\n",
        "    def forward(self, x):\n",
        "        # Apply two residual convolutional blocks followed by downsampling\n",
        "        x = self.residual1(x)\n",
        "        x = self.residual2(x)\n",
        "        x = self.downsample(x)\n",
        "\n",
        "        return x\n"
      ],
      "metadata": {
        "id": "defY2EY4d0ZI"
      },
      "execution_count": null,
      "outputs": []
    }
  ]
}